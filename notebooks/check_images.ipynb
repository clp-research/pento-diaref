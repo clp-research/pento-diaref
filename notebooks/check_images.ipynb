{
 "cells": [
  {
   "cell_type": "code",
   "execution_count": 1,
   "id": "48bfd5b7",
   "metadata": {
    "pycharm": {
     "is_executing": true
    }
   },
   "outputs": [],
   "source": [
    "%load_ext autoreload\n",
    "%autoreload 2\n",
    "\n",
    "import sys\n",
    "\n",
    "sys.path.insert(0,  \"/project/remote/pento-diaref\")"
   ]
  },
  {
   "cell_type": "code",
   "execution_count": 2,
   "id": "95f4335a",
   "metadata": {},
   "outputs": [],
   "source": [
    "from matplotlib import pyplot as plt\n",
    "import os\n",
    "import h5py\n",
    "import random\n",
    "from pentodiaref.data.generation.types import Annotation\n",
    "data_dir = \"/data/pento_diaref/didact\""
   ]
  },
  {
   "cell_type": "code",
   "execution_count": 3,
   "id": "4476e75b",
   "metadata": {},
   "outputs": [],
   "source": [
    "from tqdm import tqdm"
   ]
  },
  {
   "cell_type": "code",
   "execution_count": 10,
   "id": "a3f1f03b",
   "metadata": {
    "scrolled": false
   },
   "outputs": [
    {
     "name": "stdout",
     "output_type": "stream",
     "text": [
      "Loaded 756 from /data/pento_diaref/didact/ho-color_val.json\n"
     ]
    },
    {
     "name": "stderr",
     "output_type": "stream",
     "text": [
      "100%|██████████| 756/756 [00:00<00:00, 2445.06it/s]"
     ]
    },
    {
     "name": "stdout",
     "output_type": "stream",
     "text": [
      "Found errors: 0\n"
     ]
    },
    {
     "name": "stderr",
     "output_type": "stream",
     "text": [
      "\n"
     ]
    }
   ],
   "source": [
    "def check_bboxes(data_dir, split_name, category_name=None):\n",
    "    fn = split_name\n",
    "    if category_name:\n",
    "        fn = f\"{category_name}_{split_name}\"\n",
    "    annotations = Annotation.load(data_dir, fn)\n",
    "    file_path = os.path.join(data_dir, fn + \".boards.hdf5\")\n",
    "    errors = 0\n",
    "    with h5py.File(file_path, \"r\") as f:\n",
    "        for annotation in tqdm(annotations):\n",
    "            anno_id = annotation[\"id\"]\n",
    "            target_idx = annotation[\"target\"]\n",
    "            bboxes = annotation[\"bboxes\"]\n",
    "            pieces = annotation[\"pieces\"]\n",
    "            refs = annotation[\"refs\"]\n",
    "\n",
    "            image = f[\"images\"][anno_id]\n",
    "            (x,xx,y,yy) = bboxes[target_idx]\n",
    "            image_crop = image[min(y-3,0):max(yy+3,224), min(x-3,0):max(xx+3, 224)]\n",
    "            \n",
    "            if 0 in image_crop.shape:\n",
    "                print(\"Detected wrong image_crop:\", image_crop.shape)\n",
    "                print(\"Target bbox:\", bboxes[target_idx])\n",
    "                print()\n",
    "                for ref in refs:\n",
    "                    print(\"Instr :\",ref[\"instr\"], \"(Type:\", ref[\"type\"], \")\")\n",
    "                print()\n",
    "                for p, bb in zip(pieces, bboxes):\n",
    "                    print(p, bb)\n",
    "                print()\n",
    "                plt.figure(figsize=(10,10))\n",
    "                plt.imshow(image)\n",
    "                plt.show()\n",
    "                print()\n",
    "                errors += 1\n",
    "    print(\"Found errors:\", errors)\n",
    "check_bboxes(data_dir, \"val\", \"ho-color\")"
   ]
  },
  {
   "cell_type": "code",
   "execution_count": 4,
   "id": "aa215a0d",
   "metadata": {
    "scrolled": true
   },
   "outputs": [
    {
     "name": "stdout",
     "output_type": "stream",
     "text": [
      "Resolve data types\n"
     ]
    },
    {
     "name": "stderr",
     "output_type": "stream",
     "text": [
      "100%|██████████| 128526/128526 [00:08<00:00, 15865.42it/s]\n"
     ]
    },
    {
     "name": "stdout",
     "output_type": "stream",
     "text": [
      "Loaded 128526 from /data/pento_diaref/didact/data_train.json\n"
     ]
    }
   ],
   "source": [
    "annotations = Annotation.load(data_dir, \"data_train\", resolve=True)"
   ]
  },
  {
   "cell_type": "code",
   "execution_count": 5,
   "id": "a4490783",
   "metadata": {},
   "outputs": [
    {
     "name": "stdout",
     "output_type": "stream",
     "text": [
      "Resolve data types\n"
     ]
    },
    {
     "name": "stderr",
     "output_type": "stream",
     "text": [
      "100%|██████████| 10000/10000 [00:00<00:00, 23436.71it/s]\n"
     ]
    },
    {
     "name": "stdout",
     "output_type": "stream",
     "text": [
      "Loaded 10000 from /data/pento_diaref/didact/data_val.json\n",
      "Resolve data types\n"
     ]
    },
    {
     "name": "stderr",
     "output_type": "stream",
     "text": [
      "100%|██████████| 10000/10000 [00:00<00:00, 23171.89it/s]"
     ]
    },
    {
     "name": "stdout",
     "output_type": "stream",
     "text": [
      "Loaded 10000 from /data/pento_diaref/didact/data_test.json\n"
     ]
    },
    {
     "name": "stderr",
     "output_type": "stream",
     "text": [
      "\n"
     ]
    }
   ],
   "source": [
    "annotations += Annotation.load(data_dir, \"data_val\", resolve=True)\n",
    "annotations += Annotation.load(data_dir, \"data_test\", resolve=True)"
   ]
  },
  {
   "cell_type": "code",
   "execution_count": 6,
   "id": "80d62536",
   "metadata": {},
   "outputs": [],
   "source": [
    "from collections import defaultdict"
   ]
  },
  {
   "cell_type": "code",
   "execution_count": 7,
   "id": "2e30d0eb",
   "metadata": {},
   "outputs": [],
   "source": [
    "by_group_id = defaultdict(list)\n",
    "for a in annotations:\n",
    "    by_group_id[a.group_id].append(a)"
   ]
  },
  {
   "cell_type": "code",
   "execution_count": 8,
   "id": "0dca227a",
   "metadata": {},
   "outputs": [
    {
     "data": {
      "text/plain": [
       "42000"
      ]
     },
     "execution_count": 8,
     "metadata": {},
     "output_type": "execute_result"
    }
   ],
   "source": [
    "len(by_group_id)"
   ]
  },
  {
   "cell_type": "code",
   "execution_count": 27,
   "id": "9abd14b4",
   "metadata": {},
   "outputs": [
    {
     "data": {
      "text/plain": [
       "15314"
      ]
     },
     "execution_count": 27,
     "metadata": {},
     "output_type": "execute_result"
    }
   ],
   "source": [
    "less = sum([1 for k in by_group_id if len(by_group_id[k]) < 4])\n",
    "less"
   ]
  },
  {
   "cell_type": "code",
   "execution_count": 9,
   "id": "32b58d01",
   "metadata": {
    "scrolled": false
   },
   "outputs": [],
   "source": [
    "def check_random_sample(selection, data_dir, fn):\n",
    "    file_path = os.path.join(data_dir, fn + \".boards.hdf5\")\n",
    "    with h5py.File(file_path, \"r\") as f:\n",
    "        for annotation in selection:\n",
    "            if isinstance(annotation, Annotation):\n",
    "                annotation = annotation.to_json()\n",
    "            anno_id = annotation[\"id\"]\n",
    "            group_id = annotation[\"group_id\"]\n",
    "            bboxes = annotation[\"bboxes\"]\n",
    "            pieces = annotation[\"pieces\"]\n",
    "            target = annotation[\"target\"]\n",
    "            refs = annotation[\"refs\"]\n",
    "            \n",
    "            for ref in refs:\n",
    "                print(\"Target :\",target)\n",
    "                print(\"Instr :\",ref[\"instr\"])\n",
    "                print(\"Type  :\",ref[\"type\"])\n",
    "            \n",
    "            for p, bb in zip(pieces, bboxes):\n",
    "                print(p, bb)\n",
    "\n",
    "            images = f[\"images\"]\n",
    "            image = images[group_id]\n",
    "            print(\"Image:\", image.shape)\n",
    "            \n",
    "            plt.figure(figsize=(3,3))\n",
    "            (x,xx,y,yy) = bboxes[target]\n",
    "            plt.imshow(image[y-3:yy+3, x-3:xx+3])\n",
    "            plt.show()\n",
    "            \n",
    "            plt.figure(figsize=(10,10))\n",
    "            plt.imshow(image)\n",
    "            plt.show()\n"
   ]
  },
  {
   "cell_type": "code",
   "execution_count": 11,
   "id": "f5daa8b4",
   "metadata": {
    "scrolled": false
   },
   "outputs": [
    {
     "name": "stdout",
     "output_type": "stream",
     "text": [
      "Target : 4\n",
      "Instr : Take the blue piece in the top center\n",
      "Type  : 2\n",
      "('blue', 'F', 'right center', 0) [179, 201, 97, 119]\n",
      "('brown', 'F', 'right center', 0) [186, 209, 119, 141]\n",
      "('blue', 'F', 'top right', 90) [179, 201, 37, 59]\n",
      "('blue', 'F', 'left center', 90) [7, 29, 89, 112]\n",
      "('blue', 'F', 'top center', 0) [82, 104, 59, 82]\n",
      "('blue', 'F', 'left center', 90) [37, 59, 82, 104]\n",
      "('blue', 'F', 'top right', 90) [194, 216, 59, 82]\n",
      "('blue', 'F', 'center', 180) [97, 119, 141, 164]\n",
      "('blue', 'F', 'bottom right', 180) [156, 179, 186, 209]\n",
      "('blue', 'F', 'top left', 90) [52, 74, 52, 74]\n",
      "Image: (224, 224, 3)\n"
     ]
    },
    {
     "data": {
      "image/png": "[encoded data removed]",
      "text/plain": [
       "<Figure size 216x216 with 1 Axes>"
      ]
     },
     "metadata": {
      "needs_background": "light"
     },
     "output_type": "display_data"
    },
    {
     "data": {
      "image/png": "[encoded data removed]",
      "text/plain": [
       "<Figure size 720x720 with 1 Axes>"
      ]
     },
     "metadata": {
      "needs_background": "light"
     },
     "output_type": "display_data"
    },
    {
     "name": "stdout",
     "output_type": "stream",
     "text": [
      "Target : 6\n",
      "Instr : Take the blue piece in the top right\n",
      "Type  : 2\n",
      "('blue', 'F', 'right center', 0) [179, 201, 97, 119]\n",
      "('brown', 'F', 'right center', 0) [186, 209, 119, 141]\n",
      "('blue', 'F', 'top right', 90) [179, 201, 37, 59]\n",
      "('blue', 'F', 'left center', 90) [7, 29, 89, 112]\n",
      "('blue', 'F', 'top center', 0) [82, 104, 59, 82]\n",
      "('blue', 'F', 'left center', 90) [37, 59, 82, 104]\n",
      "('blue', 'F', 'top right', 90) [194, 216, 59, 82]\n",
      "('blue', 'F', 'center', 180) [97, 119, 141, 164]\n",
      "('blue', 'F', 'bottom right', 180) [156, 179, 186, 209]\n",
      "('blue', 'F', 'top left', 90) [52, 74, 52, 74]\n",
      "Image: (224, 224, 3)\n"
     ]
    },
    {
     "data": {
      "image/png": "[encoded data removed]",
      "text/plain": [
       "<Figure size 216x216 with 1 Axes>"
      ]
     },
     "metadata": {
      "needs_background": "light"
     },
     "output_type": "display_data"
    },
    {
     "data": {
      "image/png": "[encoded data removed]",
      "text/plain": [
       "<Figure size 720x720 with 1 Axes>"
      ]
     },
     "metadata": {
      "needs_background": "light"
     },
     "output_type": "display_data"
    },
    {
     "name": "stdout",
     "output_type": "stream",
     "text": [
      "Target : 7\n",
      "Instr : Take the blue piece in the center\n",
      "Type  : 2\n",
      "('blue', 'F', 'right center', 0) [179, 201, 97, 119]\n",
      "('brown', 'F', 'right center', 0) [186, 209, 119, 141]\n",
      "('blue', 'F', 'top right', 90) [179, 201, 37, 59]\n",
      "('blue', 'F', 'left center', 90) [7, 29, 89, 112]\n",
      "('blue', 'F', 'top center', 0) [82, 104, 59, 82]\n",
      "('blue', 'F', 'left center', 90) [37, 59, 82, 104]\n",
      "('blue', 'F', 'top right', 90) [194, 216, 59, 82]\n",
      "('blue', 'F', 'center', 180) [97, 119, 141, 164]\n",
      "('blue', 'F', 'bottom right', 180) [156, 179, 186, 209]\n",
      "('blue', 'F', 'top left', 90) [52, 74, 52, 74]\n",
      "Image: (224, 224, 3)\n"
     ]
    },
    {
     "data": {
      "image/png": "[encoded data removed]",
      "text/plain": [
       "<Figure size 216x216 with 1 Axes>"
      ]
     },
     "metadata": {
      "needs_background": "light"
     },
     "output_type": "display_data"
    },
    {
     "data": {
      "image/png": "[encoded data removed]",
      "text/plain": [
       "<Figure size 720x720 with 1 Axes>"
      ]
     },
     "metadata": {
      "needs_background": "light"
     },
     "output_type": "display_data"
    },
    {
     "name": "stdout",
     "output_type": "stream",
     "text": [
      "Target : 0\n",
      "Instr : Take the blue piece in the right center\n",
      "Type  : 2\n",
      "('blue', 'F', 'right center', 0) [179, 201, 97, 119]\n",
      "('brown', 'F', 'right center', 0) [186, 209, 119, 141]\n",
      "('blue', 'F', 'top right', 90) [179, 201, 37, 59]\n",
      "('blue', 'F', 'left center', 90) [7, 29, 89, 112]\n",
      "('blue', 'F', 'top center', 0) [82, 104, 59, 82]\n",
      "('blue', 'F', 'left center', 90) [37, 59, 82, 104]\n",
      "('blue', 'F', 'top right', 90) [194, 216, 59, 82]\n",
      "('blue', 'F', 'center', 180) [97, 119, 141, 164]\n",
      "('blue', 'F', 'bottom right', 180) [156, 179, 186, 209]\n",
      "('blue', 'F', 'top left', 90) [52, 74, 52, 74]\n",
      "Image: (224, 224, 3)\n"
     ]
    },
    {
     "data": {
      "image/png": "[encoded data removed]",
      "text/plain": [
       "<Figure size 216x216 with 1 Axes>"
      ]
     },
     "metadata": {
      "needs_background": "light"
     },
     "output_type": "display_data"
    },
    {
     "data": {
      "image/png": "[encoded data removed]",
      "text/plain": [
       "<Figure size 720x720 with 1 Axes>"
      ]
     },
     "metadata": {
      "needs_background": "light"
     },
     "output_type": "display_data"
    }
   ],
   "source": [
    "check_random_sample(by_group_id[2], data_dir, \"data\")"
   ]
  },
  {
   "cell_type": "code",
   "execution_count": null,
   "id": "5674590a",
   "metadata": {},
   "outputs": [],
   "source": [
    "def load_random_selection():    \n",
    "    fn = split_name\n",
    "    if category_name:\n",
    "        fn = f\"{category_name}_{split_name}\"\n",
    "    annotations = load(data_dir, fn)\n",
    "    selection = annotations[:4] \n",
    "    #selection = random.choice(annotations[:10])\n",
    "    #selection = random.sample(annotations[:100], 5)\n",
    "check_random_sample(data_dir, \"val\", \"ho-color\")"
   ]
  }
 ],
 "metadata": {
  "kernelspec": {
   "display_name": "Python 3 (ipykernel)",
   "language": "python",
   "name": "python3"
  },
  "language_info": {
   "codemirror_mode": {
    "name": "ipython",
    "version": 3
   },
   "file_extension": ".py",
   "mimetype": "text/x-python",
   "name": "python",
   "nbconvert_exporter": "python",
   "pygments_lexer": "ipython3",
   "version": "3.8.10"
  }
 },
 "nbformat": 4,
 "nbformat_minor": 5
}
