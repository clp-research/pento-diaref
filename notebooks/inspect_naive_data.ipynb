{
 "cells": [
  {
   "cell_type": "code",
   "execution_count": 1,
   "id": "34c16064",
   "metadata": {},
   "outputs": [],
   "source": [
    "%load_ext autoreload\n",
    "%autoreload 2\n",
    "\n",
    "import sys\n",
    "sys.path.insert(0,  \"/project/remote/pento-diaref\")"
   ]
  },
  {
   "cell_type": "code",
   "execution_count": 3,
   "id": "b6f306ce",
   "metadata": {},
   "outputs": [],
   "source": [
    "import collections\n",
    "import pandas as pd\n",
    "import seaborn as sns\n",
    "import itertools\n",
    "import numpy as np\n",
    "import random\n",
    "from tqdm.notebook import tqdm\n",
    "from matplotlib import pyplot as plt\n",
    "\n",
    "from pentodiaref.data.generation.types import Annotation\n",
    "from golmi.contrib.pentomino.symbolic.types import PropertyNames, Colors, Shapes, RelPositions, Rotations"
   ]
  },
  {
   "cell_type": "code",
   "execution_count": 4,
   "id": "e4eae013",
   "metadata": {},
   "outputs": [
    {
     "name": "stdout",
     "output_type": "stream",
     "text": [
      "Resolve data types\n"
     ]
    },
    {
     "name": "stderr",
     "output_type": "stream",
     "text": [
      "100%|██████████| 148000/148000 [00:10<00:00, 14546.05it/s]\n"
     ]
    },
    {
     "name": "stdout",
     "output_type": "stream",
     "text": [
      "Loaded 148000 from /data/pento_diaref/naive/data_train.json\n"
     ]
    }
   ],
   "source": [
    "data_dir = \"/data/pento_diaref/naive\"\n",
    "file_name = \"data_train\"\n",
    "samples = Annotation.load(data_dir, file_name, resolve=True)"
   ]
  },
  {
   "cell_type": "code",
   "execution_count": 5,
   "id": "42a6338b",
   "metadata": {
    "scrolled": true
   },
   "outputs": [
    {
     "name": "stdout",
     "output_type": "stream",
     "text": [
      "Sets: 148000 Uniq Sets: 41995\n"
     ]
    }
   ],
   "source": [
    "piece_sets = [s.group for s in samples]\n",
    "print(\"Sets:\", len(piece_sets), \"Uniq Sets:\",len(set(piece_sets)))"
   ]
  },
  {
   "cell_type": "code",
   "execution_count": 12,
   "id": "2123a271",
   "metadata": {},
   "outputs": [],
   "source": [
    "# For a single \n",
    "# piece config (COLOR,SHAPE,POSITION) \n",
    "# in different contexts, how often differs the utterance-type?\n",
    "def count_piece_config_utterance_freq(samples, pref_order=None):\n",
    "    freqs = collections.defaultdict(lambda: collections.defaultdict(int))\n",
    "    utterance_types = set()\n",
    "    for s in samples:\n",
    "        target = s.group[s.target_idx]\n",
    "        for ref in s.refs:\n",
    "            if pref_order:\n",
    "                if tuple(ref[\"props_pref\"]) != tuple(pref_order):\n",
    "                    continue\n",
    "            utterance_type = tuple(sorted(list(ref.property_values.keys())))\n",
    "            utterance_types.add(utterance_type)\n",
    "            freqs[target][utterance_type] += 1\n",
    "    return freqs, utterance_types\n",
    "\n",
    "#piece_utterance_freqs, utterance_types = count_piece_utterance_freq(samples, pref_order=['color', 'shape', 'rel_position'])\n",
    "piece_config_utterance_freqs, utterance_types = count_piece_config_utterance_freq(samples)"
   ]
  },
  {
   "cell_type": "code",
   "execution_count": 13,
   "id": "b7cb93c0",
   "metadata": {},
   "outputs": [],
   "source": [
    "utterance_types =[\n",
    "    (PropertyNames.SHAPE,),\n",
    "    (PropertyNames.COLOR,),\n",
    "    (PropertyNames.COLOR, PropertyNames.REL_POSITION),\n",
    "    (PropertyNames.COLOR, PropertyNames.SHAPE),\n",
    "    (PropertyNames.COLOR, PropertyNames.REL_POSITION, PropertyNames.SHAPE),\n",
    "    (PropertyNames.REL_POSITION, PropertyNames.SHAPE),\n",
    "    (PropertyNames.REL_POSITION,),\n",
    "]"
   ]
  },
  {
   "cell_type": "code",
   "execution_count": 15,
   "id": "c3f80bdf",
   "metadata": {},
   "outputs": [
    {
     "name": "stdout",
     "output_type": "stream",
     "text": [
      "0 (shape,)                       avg:   0 abs: 19\n",
      "1 (color,)                       avg: 107 abs: 89605\n",
      "2 (color, rel_position)          avg:   5 abs: 4132\n",
      "3 (color, shape)                 avg:  62 abs: 51872\n",
      "4 (color, rel_position, shape)   avg:   3 abs: 2365\n",
      "5 (rel_position, shape)          avg:   0 abs: 7\n",
      "6 (rel_position,)                avg:   0 abs: 0\n",
      "total avg. types per piece config: 176\n"
     ]
    }
   ],
   "source": [
    "mean_utterance_type_per_piece_config = dict()\n",
    "for idx, utterance_type in enumerate(utterance_types):\n",
    "    occurrences = [piece_config_utterance_freqs[piece][utterance_type] for piece in piece_config_utterance_freqs]\n",
    "    v = np.mean(occurrences)\n",
    "    mean_utterance_type_per_piece_config[utterance_type] = v\n",
    "    print(idx, \"{:<30} avg: {:>3} abs: {}\".format(str(utterance_type), round(v), np.sum(occurrences)))\n",
    "print(\"total avg. types per piece config:\", round(sum([v for v in mean_utterance_type_per_piece_config.values()])))\n",
    "\n",
    "\n",
    "df_utterance_type_per_piece_config = pd.DataFrame.from_records(\n",
    "    [{\"Index\": idx, \"Count\": v} for idx, (k,v) in enumerate(mean_utterance_type_per_piece_config.items())])"
   ]
  },
  {
   "cell_type": "code",
   "execution_count": 16,
   "id": "6a162e42",
   "metadata": {},
   "outputs": [
    {
     "data": {
      "image/png": "[encoded data removed]",
      "text/plain": [
       "<Figure size 432x288 with 1 Axes>"
      ]
     },
     "metadata": {
      "needs_background": "light"
     },
     "output_type": "display_data"
    }
   ],
   "source": [
    "ax = sns.barplot(x=\"Index\", y=\"Count\", hue=\"Index\", dodge=False, data=df_utterance_type_per_piece_config)\n",
    "h, l = ax.get_legend_handles_labels()\n",
    "ax.set_ylabel(\"Avg. occurrences per target piece\")\n",
    "ax.set_xlabel(\"Utterance type\")\n",
    "ax.legend(h, [\n",
    "    \"0: shape\",\n",
    "    \"1: color\",\n",
    "    \"2: color, pos\",\n",
    "    \"3: color, shape\",\n",
    "    \"4: color, pos, shape\",\n",
    "    \"5: shape, pos\",\n",
    "    \"6: pos\"\n",
    "])\n",
    "sns.move_legend(\n",
    "    ax, \"lower center\",\n",
    "    bbox_to_anchor=(.5, 1), ncol=4, title=None, frameon=False,\n",
    ")\n",
    "plt.show()"
   ]
  }
 ],
 "metadata": {
  "kernelspec": {
   "display_name": "Python 3 (ipykernel)",
   "language": "python",
   "name": "python3"
  },
  "language_info": {
   "codemirror_mode": {
    "name": "ipython",
    "version": 3
   },
   "file_extension": ".py",
   "mimetype": "text/x-python",
   "name": "python",
   "nbconvert_exporter": "python",
   "pygments_lexer": "ipython3",
   "version": "3.8.10"
  }
 },
 "nbformat": 4,
 "nbformat_minor": 5
}
