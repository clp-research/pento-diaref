{
 "cells": [
  {
   "cell_type": "code",
   "execution_count": 1,
   "metadata": {
    "pycharm": {
     "is_executing": true
    }
   },
   "outputs": [],
   "source": [
    "%load_ext autoreload\n",
    "%autoreload 2\n",
    "\n",
    "import sys\n",
    "\n",
    "sys.path.insert(0, \"/project/remote/pento-diaref\")"
   ]
  },
  {
   "cell_type": "code",
   "execution_count": 2,
   "metadata": {},
   "outputs": [],
   "source": [
    "from pentodiaref.data.generation.types import Annotation\n",
    "\n",
    "data_dir = \"/data/pento_diaref/didact\"\n",
    "split_name = \"data\""
   ]
  },
  {
   "cell_type": "code",
   "execution_count": 3,
   "metadata": {},
   "outputs": [
    {
     "name": "stdout",
     "output_type": "stream",
     "text": [
      "Resolve data types\n"
     ]
    },
    {
     "name": "stderr",
     "output_type": "stream",
     "text": [
      "100%|██████████| 128526/128526 [00:08<00:00, 15656.16it/s]\n"
     ]
    },
    {
     "name": "stdout",
     "output_type": "stream",
     "text": [
      "Loaded 128526 from /data/pento_diaref/didact/data_train.json\n",
      "Resolve data types\n"
     ]
    },
    {
     "name": "stderr",
     "output_type": "stream",
     "text": [
      "100%|██████████| 10000/10000 [00:00<00:00, 21462.85it/s]\n"
     ]
    },
    {
     "name": "stdout",
     "output_type": "stream",
     "text": [
      "Loaded 10000 from /data/pento_diaref/didact/data_val.json\n",
      "Resolve data types\n"
     ]
    },
    {
     "name": "stderr",
     "output_type": "stream",
     "text": [
      "100%|██████████| 10000/10000 [00:00<00:00, 21397.96it/s]"
     ]
    },
    {
     "name": "stdout",
     "output_type": "stream",
     "text": [
      "Loaded 10000 from /data/pento_diaref/didact/data_test.json\n",
      "Loaded 148526 annotations in total\n"
     ]
    },
    {
     "name": "stderr",
     "output_type": "stream",
     "text": [
      "\n"
     ]
    }
   ],
   "source": [
    "annotations = []\n",
    "for fn in [\"train\", \"val\", \"test\"]:\n",
    "    split_annotations = Annotation.load(data_dir, split_name + \"_\" + fn, resolve=True)\n",
    "    annotations.extend(split_annotations)\n",
    "print(f\"Loaded {len(annotations)} annotations in total\")"
   ]
  },
  {
   "cell_type": "code",
   "execution_count": 4,
   "metadata": {},
   "outputs": [],
   "source": [
    "gids = [a.group_id for a in annotations]"
   ]
  },
  {
   "cell_type": "code",
   "execution_count": 5,
   "metadata": {},
   "outputs": [
    {
     "data": {
      "text/plain": [
       "42000"
      ]
     },
     "execution_count": 5,
     "metadata": {},
     "output_type": "execute_result"
    }
   ],
   "source": [
    "len(set(gids))"
   ]
  },
  {
   "cell_type": "code",
   "execution_count": 7,
   "metadata": {},
   "outputs": [
    {
     "data": {
      "text/plain": [
       "{'id': 111665,\n",
       " 'group_id': 27916,\n",
       " 'size': 9,\n",
       " 'pieces': [('yellow', 'V', 'left center', 0),\n",
       "  ('yellow', 'P', 'bottom left', 180),\n",
       "  ('yellow', 'N', 'bottom center', 180),\n",
       "  ('yellow', 'U', 'bottom left', 0),\n",
       "  ('yellow', 'W', 'top left', 180),\n",
       "  ('green', 'V', 'top left', 90),\n",
       "  ('orange', 'V', 'top right', 270),\n",
       "  ('navy blue', 'V', 'center', 0),\n",
       "  ('red', 'V', 'top right', 90)],\n",
       " 'target': 6,\n",
       " 'refs': [{'user': 'ia',\n",
       "   'instr': 'Take the orange piece',\n",
       "   'type': 0,\n",
       "   'sent_type': 1157,\n",
       "   'props': {'color': 'orange'}}],\n",
       " 'bboxes': [[7, 29, 126, 149],\n",
       "  [59, 74, 164, 186],\n",
       "  [141, 156, 186, 216],\n",
       "  [22, 37, 179, 201],\n",
       "  [29, 52, 67, 89],\n",
       "  [29, 52, 22, 44],\n",
       "  [171, 194, 59, 82],\n",
       "  [126, 149, 141, 164],\n",
       "  [179, 201, 14, 37]],\n",
       " 'global_id': 1,\n",
       " 'split_name': 'data_train'}"
      ]
     },
     "execution_count": 7,
     "metadata": {},
     "output_type": "execute_result"
    }
   ],
   "source": [
    "annotations[1].to_json()"
   ]
  }
 ],
 "metadata": {
  "kernelspec": {
   "display_name": "Python 3 (ipykernel)",
   "language": "python",
   "name": "python3"
  },
  "language_info": {
   "codemirror_mode": {
    "name": "ipython",
    "version": 3
   },
   "file_extension": ".py",
   "mimetype": "text/x-python",
   "name": "python",
   "nbconvert_exporter": "python",
   "pygments_lexer": "ipython3",
   "version": "3.8.10"
  }
 },
 "nbformat": 4,
 "nbformat_minor": 1
}
