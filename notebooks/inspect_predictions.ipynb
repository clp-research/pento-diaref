{
 "cells": [
  {
   "cell_type": "code",
   "execution_count": 1,
   "metadata": {},
   "outputs": [],
   "source": [
    "%load_ext autoreload\n",
    "%autoreload 2\n",
    "\n",
    "import sys\n",
    "sys.path.insert(0,  \"/project/remote/pento-diaref\")"
   ]
  },
  {
   "cell_type": "code",
   "execution_count": 2,
   "metadata": {},
   "outputs": [],
   "source": [
    "import os\n",
    "from matplotlib import pyplot as plt"
   ]
  },
  {
   "cell_type": "code",
   "execution_count": 3,
   "metadata": {},
   "outputs": [],
   "source": [
    "results_dir = \"../original_results\""
   ]
  },
  {
   "cell_type": "code",
   "execution_count": 5,
   "metadata": {},
   "outputs": [
    {
     "name": "stdout",
     "output_type": "stream",
     "text": [
      "Loaded 840 from /data/pento_diaref/didact/ho-pos_test.json\n",
      "Loaded 756 from /data/pento_diaref/didact/ho-color_test.json\n",
      "Loaded 840 from /data/pento_diaref/didact/ho-uts_test.json\n",
      "Loaded 10000 from /data/pento_diaref/didact/data_test.json\n"
     ]
    }
   ],
   "source": [
    "from pentodiaref.data.generation.types import Annotation\n",
    "\n",
    "def annos_by_global_id(data_dir, stage_name):\n",
    "    data_categories = [\"ho-pos\", \"ho-color\", \"ho-uts\", \"data\"]\n",
    "    by_gid = {}\n",
    "    for category in data_categories:\n",
    "        data_name = category + \"_\" + stage_name\n",
    "        for anno in Annotation.load(data_dir, data_name, resolve=False):\n",
    "            by_gid[anno[\"global_id\"]] = anno\n",
    "    return by_gid\n",
    "\n",
    "annos_by_gid = annos_by_global_id(\"/data/pento_diaref/didact\", \"test\")"
   ]
  },
  {
   "cell_type": "code",
   "execution_count": 12,
   "metadata": {},
   "outputs": [],
   "source": [
    "import pandas as pd\n",
    "import seaborn as sns\n",
    "import re\n",
    "import json\n",
    "from golmi.contrib.pentomino.symbolic.types import Shapes, Colors, RelPositions\n",
    "from pentodiaref.data.generation.expressions import utterance_types_csp"
   ]
  },
  {
   "cell_type": "code",
   "execution_count": 7,
   "metadata": {},
   "outputs": [],
   "source": [
    "class UTParser():\n",
    "    \n",
    "    def __init__(self):\n",
    "        colors =  [c.value_name.lower() for c in list(Colors)]\n",
    "        shapes = [s._value_.lower() for s in list(Shapes)]\n",
    "        colors_str = \"|\".join([c for c in colors])\n",
    "        shapes_str = \"|\".join([s for s in shapes])\n",
    "        # align idx numbers with plits from the paper\n",
    "        UT2 = 2, f\"take the ({colors_str}) piece in\" # \"piece\" is matched by shape \"p\" ...\n",
    "        UT0 = 1, f\"take the ({colors_str}) piece\"\n",
    "        UT3 = 4, f\"take the ({colors_str}) ({shapes_str}) in\"\n",
    "        UT1 = 3, f\"take the ({colors_str}) ({shapes_str})\"\n",
    "        UT6 = 6, f\"take the piece in\"\n",
    "        UT5 = 5, f\"take the ({shapes_str}) in\"\n",
    "        UT4 = 0, f\"take the ({shapes_str})\"\n",
    "        self.uts = [UT2,UT0,UT3,UT1,UT6,UT5,UT4]\n",
    "    \n",
    "    def parse(self, sent):\n",
    "        sent = sent.lower()\n",
    "        for idx, ut in self.uts:\n",
    "            if re.search(ut, sent):\n",
    "                return idx\n",
    "        return 7 # no matches\n",
    "        \n",
    "parser = UTParser()\n",
    "assert parser.parse(\"Take the blue piece\") == 1\n",
    "assert parser.parse(\"Take the blue T\") == 3\n",
    "assert parser.parse(\"Take the blue piece in the center\") == 2\n",
    "assert parser.parse(\"Take the blue T in the center\") == 4\n",
    "assert parser.parse(\"Take the T\") == 0\n",
    "assert parser.parse(\"Take the T in the center\") == 5\n",
    "assert parser.parse(\"Take the piece in the center\") == 6"
   ]
  },
  {
   "cell_type": "code",
   "execution_count": 14,
   "metadata": {},
   "outputs": [],
   "source": [
    "def create_model_hists_df(pred_files, category, ignore_unk=False):\n",
    "    records = []\n",
    "    for pred_file in pred_files:\n",
    "        model_name = \"none\"\n",
    "        if \"lstm\" in pred_file:\n",
    "            model_name = \"LSTM\"\n",
    "        if \"transformer\" in pred_file:\n",
    "            model_name = \"Transf.\"\n",
    "        if \"classifier\" in pred_file:\n",
    "            model_name = \"Classifier\"\n",
    "        if \"vse\" in pred_file:\n",
    "            model_name += \"+VSE\"\n",
    "        if \"naive\" in pred_file:\n",
    "            model_name += \"\\n(NAIVE)\"\n",
    "        if \"didact\" in pred_file:\n",
    "            model_name += \"\\n(DIDACT)\"\n",
    "        with open(f\"{results_dir}/{pred_file}.test.predictions.json\", \"r\") as f:\n",
    "            preds = json.load(f)\n",
    "        for p in preds:\n",
    "            split_name = annos_by_gid[p[\"global_id\"]][\"split_name\"]\n",
    "            if split_name.startswith(category):\n",
    "                records.append({\n",
    "                    \"Model\": model_name,\n",
    "                    \"Utterance Type\": parser.parse(p[\"prediction\"])\n",
    "                })\n",
    "\n",
    "    df = pd.DataFrame.from_records(records)\n",
    "    if ignore_unk:\n",
    "        df = df[df[\"Utterance Type\"] != 7]\n",
    "    return df"
   ]
  },
  {
   "cell_type": "code",
   "execution_count": 9,
   "metadata": {},
   "outputs": [],
   "source": [
    "def create_model_hists_plot_v2(df, title=None, legend_cols=None):\n",
    "    g = sns.catplot(x=\"Model\", hue=\"Utterance Type\", kind=\"count\", legend=False, data=df, \n",
    "                    height=5, aspect=7/4)\n",
    "    #g.set(xlabel='', ylabel='Count', fontsize=20)\n",
    "    g.ax.set_xlabel(\"\",fontsize=30)\n",
    "    g.ax.set_ylabel(\"Count\",fontsize=20)\n",
    "    g.ax.tick_params(labelsize=15)\n",
    "    if title:\n",
    "        g.set(title=title)\n",
    "    h, l = g.ax.get_legend_handles_labels()\n",
    "    g.ax.legend(h, [\n",
    "        \"shape\",\n",
    "        \"color\",\n",
    "        \"color+pos\",\n",
    "        \"color+shape\",\n",
    "        \"color+pos+shape\",\n",
    "        \"shape+pos\",\n",
    "        \"pos\",\n",
    "        \"unk\"\n",
    "    ])\n",
    "    ncols = 4\n",
    "    if legend_cols is not None:\n",
    "        ncols = legend_cols\n",
    "    sns.move_legend(g.ax, \"upper right\", fontsize=13)\n",
    "    plt.show()"
   ]
  },
  {
   "cell_type": "code",
   "execution_count": 17,
   "metadata": {},
   "outputs": [
    {
     "data": {
      "image/png": "[encoded data removed]",
      "text/plain": [
       "<Figure size 630x360 with 1 Axes>"
      ]
     },
     "metadata": {
      "needs_background": "light"
     },
     "output_type": "display_data"
    }
   ],
   "source": [
    "filenames = [\"lstm-naive\", \"lstm-didact\",\"transformer-vse-naive\",\"transformer-vse-didact\"]\n",
    "df = create_model_hists_df(filenames, \"data\", ignore_unk=True)\n",
    "create_model_hists_plot_v2(df, legend_cols=4)"
   ]
  }
 ],
 "metadata": {
  "kernelspec": {
   "display_name": "Python 3 (ipykernel)",
   "language": "python",
   "name": "python3"
  },
  "language_info": {
   "codemirror_mode": {
    "name": "ipython",
    "version": 3
   },
   "file_extension": ".py",
   "mimetype": "text/x-python",
   "name": "python",
   "nbconvert_exporter": "python",
   "pygments_lexer": "ipython3",
   "version": "3.8.10"
  }
 },
 "nbformat": 4,
 "nbformat_minor": 1
}
